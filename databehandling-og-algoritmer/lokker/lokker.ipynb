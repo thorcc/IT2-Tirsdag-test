{
 "cells": [
  {
   "cell_type": "code",
   "execution_count": 7,
   "metadata": {},
   "outputs": [
    {
     "name": "stdout",
     "output_type": "stream",
     "text": [
      "4\n",
      "6\n",
      "8\n",
      "10\n",
      "12\n",
      "14\n",
      "16\n",
      "18\n",
      "20\n",
      "22\n"
     ]
    }
   ],
   "source": [
    "# while-løkker brukt for å telle\n",
    "teller = 10\n",
    "while teller > 0:\n",
    "    print(teller)\n",
    "    teller -= 1\n",
    "\n",
    "# Oppvarming:\n",
    "# Tell alle partall fra 2 til 20\n",
    "teller = 2\n",
    "while teller <= 20:\n",
    "    print(teller)\n",
    "    teller += 2\n"
   ]
  },
  {
   "cell_type": "code",
   "execution_count": 8,
   "metadata": {},
   "outputs": [
    {
     "name": "stdout",
     "output_type": "stream",
     "text": [
      "1\n",
      "2\n",
      "3\n",
      "4\n",
      "5\n",
      "6\n",
      "7\n",
      "8\n",
      "9\n",
      "10\n"
     ]
    }
   ],
   "source": [
    "# For-løkker\n",
    "# Brukes for å gå gjennom en sekvens, \n",
    "# en samling med *ting*. F.eks en liste med tall eller en ordbok med nøkler.\n",
    "for tall in [1,2,3,4,5,6,7,8,9,10]:\n",
    "    print(tall)\n",
    "\n",
    "for bokstav in \"Ja, vi elsker\":\n",
    "    print(bokstav)\n"
   ]
  },
  {
   "cell_type": "code",
   "execution_count": 15,
   "metadata": {},
   "outputs": [
    {
     "name": "stdout",
     "output_type": "stream",
     "text": [
      "10\n",
      "9\n",
      "8\n",
      "7\n",
      "6\n",
      "5\n",
      "4\n",
      "3\n",
      "2\n",
      "1\n"
     ]
    }
   ],
   "source": [
    "# Range\n",
    "# range(start, slutt_før, steg) er en innebygd funksjon som gir oss en sekvens med tall,\n",
    "# som vi kan bruke i for-løkker\n",
    "\n",
    "# for tall in [1,2,3,4,5,6,7,8,9,10]: # dette blir slitsomt i lengden! Her kan vi heller bruke range\n",
    "#     print(tall)\n",
    "\n",
    "# for tall in range(1, 11, 1): # (1 til 10) for hvert tall i sekvensen som starter på 1, slutter før 11 og øker med 1\n",
    "#     print(tall)\n",
    "\n",
    "# eksperttips, \n",
    "# hvis vi starter på 0, trenger vi ikke skrive start-argument\n",
    "# hvis vi skal øke med 1, trenger vi ikke skrive steg-argument\n",
    "# oppgave\n",
    "# 1. lag en for-løkke som printer tallene fra 0 til 7\n",
    "# for tall in range(8):\n",
    "#     print(tall)\n",
    "# 2. lag en for-løkke som printer tallene fra 10 til 1 - utfordring\n",
    "for tall in range(10, 0, -1):\n",
    "    print(tall)\n"
   ]
  },
  {
   "cell_type": "code",
   "execution_count": 17,
   "metadata": {},
   "outputs": [
    {
     "name": "stdout",
     "output_type": "stream",
     "text": [
      "IT1: 6\n",
      "IT2: 6\n",
      "1T: 4\n",
      "R1: 5\n",
      "R2: 4\n"
     ]
    }
   ],
   "source": [
    "fag = [\"IT1\", \"IT2\", \"1T\", \"R1\", \"R2\"]\n",
    "karakterer = [6, 6, 4, 5, 4]\n",
    "\n",
    "# Oppgave print fag og karakter på samme linje - bruk for tall in range()\n",
    "# eks: IT1: 6\n",
    "# eks: IT2: 6\n",
    "for tall in range(len(fag)):\n",
    "    print(f\"{fag[tall]}: {karakterer[tall]}\")"
   ]
  },
  {
   "cell_type": "code",
   "execution_count": 21,
   "metadata": {},
   "outputs": [
    {
     "name": "stdout",
     "output_type": "stream",
     "text": [
      "Mattelærer\n",
      "favorittall\n",
      "\n",
      "Nøkler\n",
      "navn David Ravi\n",
      "alder 43\n",
      "yrke Mattelærer\n",
      "favorittaktivitet gaming\n",
      "favorittdrikk databrus\n",
      "123 favorittall\n",
      "navn David Ravi\n",
      "alder 43\n",
      "yrke Mattelærer\n",
      "favorittaktivitet gaming\n",
      "favorittdrikk databrus\n",
      "123 favorittall\n"
     ]
    }
   ],
   "source": [
    "ravi = {\n",
    "    \"navn\": \"David Ravi\",\n",
    "    \"alder\": 43,\n",
    "    \"yrke\": \"Mattelærer\",\n",
    "    \"favorittaktivitet\": \"gaming\",\n",
    "    \"favorittdrikk\": \"databrus\",\n",
    "    123: \"favorittall\" # vi kan også bruke andre typer nøkler i ei ordbok\n",
    "    # nøkkel: verdi\n",
    "}\n",
    "\n",
    "print(ravi[\"yrke\"])\n",
    "print(ravi[123])\n",
    "\n",
    "print()\n",
    "print(\"Nøkler\")\n",
    "# variabelen som opprettes i en for-løkke som går gjennom \n",
    "# en ordbok vil etter tur ha verdiene til nøklene i ordboka\n",
    "for nøkkel in ravi:\n",
    "    print(nøkkel, ravi[nøkkel])\n",
    "\n",
    "# alternativ kan vi bruke .items() og to variabler for å gå gjennom alt innholdet i ei ordbok\n",
    "for nøkkel, verdi in ravi.items():\n",
    "    print(nøkkel, verdi)"
   ]
  },
  {
   "cell_type": "code",
   "execution_count": 25,
   "metadata": {},
   "outputs": [
    {
     "name": "stdout",
     "output_type": "stream",
     "text": [
      "Emma Stone (34)\n"
     ]
    }
   ],
   "source": [
    "skuespillere = [\n",
    "    {\"navn\": \"Tom Hanks\", \"alder\": 66},\n",
    "    {\"navn\": \"Meryl Streep\", \"alder\": 73},\n",
    "    {\"navn\": \"Leonardo DiCaprio\", \"alder\": 48},\n",
    "    {\"navn\": \"Julia Roberts\", \"alder\": 55},\n",
    "    {\"navn\": \"Denzel Washington\", \"alder\": 67},\n",
    "    {\"navn\": \"Nicole Kidman\", \"alder\": 55},\n",
    "    {\"navn\": \"Brad Pitt\", \"alder\": 59},\n",
    "    {\"navn\": \"Charlize Theron\", \"alder\": 47},\n",
    "    {\"navn\": \"Johnny Depp\", \"alder\": 59},\n",
    "    {\"navn\": \"Emma Stone\", \"alder\": 34},\n",
    "]\n",
    "\n",
    "favoritt = skuespillere[9]\n",
    "# favoritt = skuespillere[-1] # alternativ kan vi hente ut siste skuespiller -1\n",
    "print(f\"{favoritt['navn']} ({favoritt['alder']})\")"
   ]
  },
  {
   "cell_type": "code",
   "execution_count": 33,
   "metadata": {},
   "outputs": [
    {
     "name": "stdout",
     "output_type": "stream",
     "text": [
      "Tom Hanks (66)\n",
      "Meryl Streep (73)\n",
      "Leonardo DiCaprio (48)\n",
      "Julia Roberts (55)\n",
      "Denzel Washington (67)\n",
      "Nicole Kidman (55)\n",
      "Brad Pitt (59)\n",
      "Charlize Theron (47)\n",
      "Johnny Depp (59)\n",
      "Emma Stone (34)\n"
     ]
    }
   ],
   "source": [
    "for skuespiller in skuespillere:\n",
    "    print(f\"{skuespiller['navn']} ({skuespiller['alder']})\")"
   ]
  },
  {
   "cell_type": "code",
   "execution_count": 35,
   "metadata": {},
   "outputs": [
    {
     "name": "stdout",
     "output_type": "stream",
     "text": [
      "{'navn': 'Meryl Streep', 'alder': 73}\n",
      "56.3\n"
     ]
    }
   ],
   "source": [
    "eldst = skuespillere[0]\n",
    "totalalder = 0\n",
    "for skuespiller in skuespillere:\n",
    "    totalalder += skuespiller[\"alder\"]\n",
    "    if skuespiller[\"alder\"] > eldst[\"alder\"]:\n",
    "        eldst = skuespiller\n",
    "print(eldst)\n",
    "snitt = totalalder / len(skuespillere)\n",
    "print(snitt)"
   ]
  },
  {
   "cell_type": "code",
   "execution_count": null,
   "metadata": {},
   "outputs": [],
   "source": []
  }
 ],
 "metadata": {
  "kernelspec": {
   "display_name": "Python 3",
   "language": "python",
   "name": "python3"
  },
  "language_info": {
   "codemirror_mode": {
    "name": "ipython",
    "version": 3
   },
   "file_extension": ".py",
   "mimetype": "text/x-python",
   "name": "python",
   "nbconvert_exporter": "python",
   "pygments_lexer": "ipython3",
   "version": "3.12.0"
  }
 },
 "nbformat": 4,
 "nbformat_minor": 2
}
