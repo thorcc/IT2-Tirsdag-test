{
 "cells": [
  {
   "cell_type": "markdown",
   "metadata": {},
   "source": [
    "# Oppgave 2.19\n",
    "\n",
    "- https://developer.entur.org/\n",
    "\n",
    "Bruk Enturs API og lag et program der brukeren kan skrive inn et busstopp, og få ut hvor lenge det er til neste buss/tog/trikk kommer."
   ]
  },
  {
   "cell_type": "code",
   "execution_count": 6,
   "metadata": {},
   "outputs": [
    {
     "name": "stdout",
     "output_type": "stream",
     "text": [
      "{'data': {'stopPlace': {'id': 'NSR:StopPlace:548', 'name': 'Bergen stasjon', 'estimatedCalls': [{'realtime': True, 'aimedArrivalTime': '2024-01-23T14:15:00+01:00', 'aimedDepartureTime': '2024-01-23T14:15:00+01:00', 'expectedArrivalTime': '2024-01-23T14:15:00+01:00', 'expectedDepartureTime': '2024-01-23T14:15:00+01:00', 'actualArrivalTime': None, 'actualDepartureTime': None, 'date': '2024-01-23', 'forBoarding': True, 'forAlighting': False, 'destinationDisplay': {'frontText': 'Arna'}, 'quay': {'id': 'NSR:Quay:901'}, 'serviceJourney': {'journeyPattern': {'line': {'id': 'VYG:Line:43', 'name': 'Bergen-Arna', 'transportMode': 'rail'}}}}, {'realtime': True, 'aimedArrivalTime': '2024-01-23T14:23:00+01:00', 'aimedDepartureTime': '2024-01-23T14:23:00+01:00', 'expectedArrivalTime': '2024-01-23T14:23:00+01:00', 'expectedDepartureTime': '2024-01-23T14:23:00+01:00', 'actualArrivalTime': None, 'actualDepartureTime': None, 'date': '2024-01-23', 'forBoarding': True, 'forAlighting': False, 'destinationDisplay': {'frontText': 'Voss'}, 'quay': {'id': 'NSR:Quay:900'}, 'serviceJourney': {'journeyPattern': {'line': {'id': 'VYG:Line:45', 'name': 'Bergen-Voss-Myrdal-Ål', 'transportMode': 'rail'}}}}, {'realtime': True, 'aimedArrivalTime': '2024-01-23T14:43:00+01:00', 'aimedDepartureTime': '2024-01-23T14:43:00+01:00', 'expectedArrivalTime': '2024-01-23T14:43:00+01:00', 'expectedDepartureTime': '2024-01-23T14:43:00+01:00', 'actualArrivalTime': None, 'actualDepartureTime': None, 'date': '2024-01-23', 'forBoarding': True, 'forAlighting': False, 'destinationDisplay': {'frontText': 'Arna'}, 'quay': {'id': 'NSR:Quay:901'}, 'serviceJourney': {'journeyPattern': {'line': {'id': 'VYG:Line:43', 'name': 'Bergen-Arna', 'transportMode': 'rail'}}}}, {'realtime': True, 'aimedArrivalTime': '2024-01-23T15:10:00+01:00', 'aimedDepartureTime': '2024-01-23T15:10:00+01:00', 'expectedArrivalTime': '2024-01-23T15:10:00+01:00', 'expectedDepartureTime': '2024-01-23T15:10:00+01:00', 'actualArrivalTime': None, 'actualDepartureTime': None, 'date': '2024-01-23', 'forBoarding': True, 'forAlighting': False, 'destinationDisplay': {'frontText': 'Arna'}, 'quay': {'id': 'NSR:Quay:901'}, 'serviceJourney': {'journeyPattern': {'line': {'id': 'VYG:Line:43', 'name': 'Bergen-Arna', 'transportMode': 'rail'}}}}, {'realtime': True, 'aimedArrivalTime': '2024-01-23T15:28:00+01:00', 'aimedDepartureTime': '2024-01-23T15:28:00+01:00', 'expectedArrivalTime': '2024-01-23T15:28:00+01:00', 'expectedDepartureTime': '2024-01-23T15:28:00+01:00', 'actualArrivalTime': None, 'actualDepartureTime': None, 'date': '2024-01-23', 'forBoarding': True, 'forAlighting': False, 'destinationDisplay': {'frontText': 'Voss'}, 'quay': {'id': 'NSR:Quay:899'}, 'serviceJourney': {'journeyPattern': {'line': {'id': 'VYG:Line:45', 'name': 'Bergen-Voss-Myrdal-Ål', 'transportMode': 'rail'}}}}, {'realtime': True, 'aimedArrivalTime': '2024-01-23T15:41:00+01:00', 'aimedDepartureTime': '2024-01-23T15:41:00+01:00', 'expectedArrivalTime': '2024-01-23T15:41:00+01:00', 'expectedDepartureTime': '2024-01-23T15:41:00+01:00', 'actualArrivalTime': None, 'actualDepartureTime': None, 'date': '2024-01-23', 'forBoarding': True, 'forAlighting': False, 'destinationDisplay': {'frontText': 'Oslo S'}, 'quay': {'id': 'NSR:Quay:905'}, 'serviceJourney': {'journeyPattern': {'line': {'id': 'VYG:Line:41', 'name': 'Oslo S-Bergen', 'transportMode': 'rail'}}}}, {'realtime': True, 'aimedArrivalTime': '2024-01-23T16:08:00+01:00', 'aimedDepartureTime': '2024-01-23T16:08:00+01:00', 'expectedArrivalTime': '2024-01-23T16:08:00+01:00', 'expectedDepartureTime': '2024-01-23T16:08:00+01:00', 'actualArrivalTime': None, 'actualDepartureTime': None, 'date': '2024-01-23', 'forBoarding': True, 'forAlighting': False, 'destinationDisplay': {'frontText': 'Arna'}, 'quay': {'id': 'NSR:Quay:899'}, 'serviceJourney': {'journeyPattern': {'line': {'id': 'VYG:Line:43', 'name': 'Bergen-Arna', 'transportMode': 'rail'}}}}, {'realtime': True, 'aimedArrivalTime': '2024-01-23T16:29:00+01:00', 'aimedDepartureTime': '2024-01-23T16:29:00+01:00', 'expectedArrivalTime': '2024-01-23T16:29:00+01:00', 'expectedDepartureTime': '2024-01-23T16:29:00+01:00', 'actualArrivalTime': None, 'actualDepartureTime': None, 'date': '2024-01-23', 'forBoarding': True, 'forAlighting': False, 'destinationDisplay': {'frontText': 'Myrdal'}, 'quay': {'id': 'NSR:Quay:901'}, 'serviceJourney': {'journeyPattern': {'line': {'id': 'VYG:Line:45', 'name': 'Bergen-Voss-Myrdal-Ål', 'transportMode': 'rail'}}}}, {'realtime': True, 'aimedArrivalTime': '2024-01-23T17:01:00+01:00', 'aimedDepartureTime': '2024-01-23T17:01:00+01:00', 'expectedArrivalTime': '2024-01-23T17:01:00+01:00', 'expectedDepartureTime': '2024-01-23T17:01:00+01:00', 'actualArrivalTime': None, 'actualDepartureTime': None, 'date': '2024-01-23', 'forBoarding': True, 'forAlighting': False, 'destinationDisplay': {'frontText': 'Arna'}, 'quay': {'id': 'NSR:Quay:901'}, 'serviceJourney': {'journeyPattern': {'line': {'id': 'VYG:Line:43', 'name': 'Bergen-Arna', 'transportMode': 'rail'}}}}, {'realtime': True, 'aimedArrivalTime': '2024-01-23T17:26:00+01:00', 'aimedDepartureTime': '2024-01-23T17:26:00+01:00', 'expectedArrivalTime': '2024-01-23T17:26:00+01:00', 'expectedDepartureTime': '2024-01-23T17:26:00+01:00', 'actualArrivalTime': None, 'actualDepartureTime': None, 'date': '2024-01-23', 'forBoarding': True, 'forAlighting': False, 'destinationDisplay': {'frontText': 'Voss'}, 'quay': {'id': 'NSR:Quay:899'}, 'serviceJourney': {'journeyPattern': {'line': {'id': 'VYG:Line:45', 'name': 'Bergen-Voss-Myrdal-Ål', 'transportMode': 'rail'}}}}]}}}\n"
     ]
    }
   ],
   "source": [
    "import requests\n",
    "\n",
    "body = \"\"\"\n",
    "{\n",
    "  stopPlace(id: \"NSR:StopPlace:548\") {\n",
    "    id\n",
    "    name\n",
    "    estimatedCalls(timeRange: 72100, numberOfDepartures: 10) {     \n",
    "      realtime\n",
    "      aimedArrivalTime\n",
    "      aimedDepartureTime\n",
    "      expectedArrivalTime\n",
    "      expectedDepartureTime\n",
    "      actualArrivalTime\n",
    "      actualDepartureTime\n",
    "      date\n",
    "      forBoarding\n",
    "      forAlighting\n",
    "      destinationDisplay {\n",
    "        frontText\n",
    "      }\n",
    "      quay {\n",
    "        id\n",
    "      }\n",
    "      serviceJourney {\n",
    "        journeyPattern {\n",
    "          line {\n",
    "            id\n",
    "            name\n",
    "            transportMode\n",
    "          }\n",
    "        }\n",
    "      }\n",
    "    }\n",
    "  }\n",
    "}\n",
    "\"\"\"\n",
    "\n",
    "response = requests.post(url=\"https://api.entur.io/journey-planner/v3/graphql\", json={\"query\": body})\n",
    "data = response.json()\n",
    "print(data)"
   ]
  },
  {
   "cell_type": "code",
   "execution_count": 3,
   "metadata": {},
   "outputs": [
    {
     "name": "stdout",
     "output_type": "stream",
     "text": [
      "response status code:  404\n"
     ]
    }
   ],
   "source": [
    "\n",
    "# we have imported the requests module \n",
    "import requests\n",
    "# defined a URL variable that we will be \n",
    "# using to send GET or POST requests to the API\n",
    "url = \"https://fruits-api.netlify.app/graphql\"\n",
    " \n",
    "body = \"\"\"\n",
    "{\n",
    "  fruit(id: 14) {\n",
    "    scientific_name\n",
    "    tree_name\n",
    "  }\n",
    "}\n",
    "\"\"\"\n",
    " \n",
    "response = requests.post(url=url, json={\"query\": body})\n",
    "print(\"response status code: \", response.status_code)\n",
    "if response.status_code == 200:\n",
    "    print(\"response : \", response.content)\n"
   ]
  },
  {
   "cell_type": "code",
   "execution_count": 4,
   "metadata": {},
   "outputs": [
    {
     "ename": "AssertionError",
     "evalue": "Cannot run client.execute(query) if an asyncio loop is running. Use 'await client.execute_async(query)' instead.",
     "output_type": "error",
     "traceback": [
      "\u001b[0;31m---------------------------------------------------------------------------\u001b[0m",
      "\u001b[0;31mAssertionError\u001b[0m                            Traceback (most recent call last)",
      "Cell \u001b[0;32mIn[4], line 25\u001b[0m\n\u001b[1;32m     13\u001b[0m query \u001b[38;5;241m=\u001b[39m gql(\n\u001b[1;32m     14\u001b[0m \u001b[38;5;250m    \u001b[39m\u001b[38;5;124;03m\"\"\"\u001b[39;00m\n\u001b[1;32m     15\u001b[0m \u001b[38;5;124;03m    query getContinents {\u001b[39;00m\n\u001b[0;32m   (...)\u001b[0m\n\u001b[1;32m     21\u001b[0m \u001b[38;5;124;03m\"\"\"\u001b[39;00m\n\u001b[1;32m     22\u001b[0m )\n\u001b[1;32m     24\u001b[0m \u001b[38;5;66;03m# Execute the query on the transport\u001b[39;00m\n\u001b[0;32m---> 25\u001b[0m result \u001b[38;5;241m=\u001b[39m \u001b[43mclient\u001b[49m\u001b[38;5;241;43m.\u001b[39;49m\u001b[43mexecute\u001b[49m\u001b[43m(\u001b[49m\u001b[43mquery\u001b[49m\u001b[43m)\u001b[49m\n\u001b[1;32m     26\u001b[0m \u001b[38;5;28mprint\u001b[39m(result)\n",
      "File \u001b[0;32m/Library/Frameworks/Python.framework/Versions/3.12/lib/python3.12/site-packages/gql/client.py:464\u001b[0m, in \u001b[0;36mClient.execute\u001b[0;34m(self, document, variable_values, operation_name, serialize_variables, parse_result, get_execution_result, **kwargs)\u001b[0m\n\u001b[1;32m    461\u001b[0m     loop \u001b[38;5;241m=\u001b[39m asyncio\u001b[38;5;241m.\u001b[39mnew_event_loop()\n\u001b[1;32m    462\u001b[0m     asyncio\u001b[38;5;241m.\u001b[39mset_event_loop(loop)\n\u001b[0;32m--> 464\u001b[0m \u001b[38;5;28;01massert\u001b[39;00m \u001b[38;5;129;01mnot\u001b[39;00m loop\u001b[38;5;241m.\u001b[39mis_running(), (\n\u001b[1;32m    465\u001b[0m     \u001b[38;5;124m\"\u001b[39m\u001b[38;5;124mCannot run client.execute(query) if an asyncio loop is running.\u001b[39m\u001b[38;5;124m\"\u001b[39m\n\u001b[1;32m    466\u001b[0m     \u001b[38;5;124m\"\u001b[39m\u001b[38;5;124m Use \u001b[39m\u001b[38;5;124m'\u001b[39m\u001b[38;5;124mawait client.execute_async(query)\u001b[39m\u001b[38;5;124m'\u001b[39m\u001b[38;5;124m instead.\u001b[39m\u001b[38;5;124m\"\u001b[39m\n\u001b[1;32m    467\u001b[0m )\n\u001b[1;32m    469\u001b[0m data \u001b[38;5;241m=\u001b[39m loop\u001b[38;5;241m.\u001b[39mrun_until_complete(\n\u001b[1;32m    470\u001b[0m     \u001b[38;5;28mself\u001b[39m\u001b[38;5;241m.\u001b[39mexecute_async(\n\u001b[1;32m    471\u001b[0m         document,\n\u001b[0;32m   (...)\u001b[0m\n\u001b[1;32m    478\u001b[0m     )\n\u001b[1;32m    479\u001b[0m )\n\u001b[1;32m    481\u001b[0m \u001b[38;5;28;01mreturn\u001b[39;00m data\n",
      "\u001b[0;31mAssertionError\u001b[0m: Cannot run client.execute(query) if an asyncio loop is running. Use 'await client.execute_async(query)' instead."
     ]
    }
   ],
   "source": [
    "# pip3 install \"gql[all]\"\n",
    "\n",
    "from gql import gql, Client\n",
    "from gql.transport.aiohttp import AIOHTTPTransport\n",
    "\n",
    "# Select your transport with a defined url endpoint\n",
    "transport = AIOHTTPTransport(url=\"https://countries.trevorblades.com/\")\n",
    "\n",
    "# Create a GraphQL client using the defined transport\n",
    "client = Client(transport=transport, fetch_schema_from_transport=True)\n",
    "\n",
    "# Provide a GraphQL query\n",
    "query = gql(\n",
    "    \"\"\"\n",
    "    query getContinents {\n",
    "      continents {\n",
    "        code\n",
    "        name\n",
    "      }\n",
    "    }\n",
    "\"\"\"\n",
    ")\n",
    "\n",
    "# Execute the query on the transport\n",
    "result = client.execute(query)\n",
    "print(result)"
   ]
  },
  {
   "cell_type": "code",
   "execution_count": null,
   "metadata": {},
   "outputs": [],
   "source": []
  }
 ],
 "metadata": {
  "kernelspec": {
   "display_name": "Python 3",
   "language": "python",
   "name": "python3"
  },
  "language_info": {
   "codemirror_mode": {
    "name": "ipython",
    "version": 3
   },
   "file_extension": ".py",
   "mimetype": "text/x-python",
   "name": "python",
   "nbconvert_exporter": "python",
   "pygments_lexer": "ipython3",
   "version": "3.12.0"
  }
 },
 "nbformat": 4,
 "nbformat_minor": 2
}
