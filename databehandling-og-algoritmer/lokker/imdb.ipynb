{
 "cells": [
  {
   "cell_type": "markdown",
   "metadata": {},
   "source": [
    "# Oppgave 2.15 - IMDB\n",
    "\n",
    "1. Hvilken film ligger øverst på listen og hvem har regissert den?\n",
    "2. Hva er gjennomsnittskarakteren til alle filmene på listen?\n",
    "3. Hva er gjennomsnittskarakteren til de ti første filmene?\n",
    "4. Hvilken regissør har regissert flest filmer på listen?\n",
    "   - For hver film er regisørrer en liste. Her holder det med første regissør i listen.\n",
    "   - Bonus: Alle regisørrene i regissørlistene skal telles med.\n"
   ]
  },
  {
   "cell_type": "code",
   "execution_count": 1,
   "metadata": {},
   "outputs": [],
   "source": [
    "# Filinnlesing\n",
    "import json\n",
    "\n",
    "fil = open(\"imdb.json\", encoding=\"utf-8\")\n",
    "filmer = json.load(fil)\n",
    "fil.close()"
   ]
  },
  {
   "cell_type": "code",
   "execution_count": 6,
   "metadata": {},
   "outputs": [
    {
     "data": {
      "text/plain": [
       "{'navn': 'Yôjinbô',\n",
       " 'bilde': 'https://m.media-amazon.com/images/M/MV5BZThiZjAzZjgtNDU3MC00YThhLThjYWUtZGRkYjc2ZWZlOTVjXkEyXkFqcGdeQXVyNTA4NzY1MzY@._V1_.jpg',\n",
       " 'sjangere': ['Action', 'Drama', 'Thriller'],\n",
       " 'url': 'https://www.imdb.com//title/tt0055630/',\n",
       " 'beskrivelse': 'A crafty ronin comes to a town divided by two criminal gangs and decides to play them against each other to free the town.',\n",
       " 'dato': '1961-09-13',\n",
       " 'regissører': ['Akira Kurosawa'],\n",
       " 'trailer': 'https://www.imdb.com/video/imdb/vi1659814169/imdb/embed?autoplay=false&width=640',\n",
       " 'karakter': 8.2}"
      ]
     },
     "execution_count": 6,
     "metadata": {},
     "output_type": "execute_result"
    }
   ],
   "source": [
    "filmer[0]"
   ]
  },
  {
   "cell_type": "code",
   "execution_count": 11,
   "metadata": {},
   "outputs": [
    {
     "name": "stdout",
     "output_type": "stream",
     "text": [
      "Filmen som ligger øverst er Yôjinbô som er regissert av Akira Kurosawa\n",
      "Filmen med høyest karakter er The Shawshank Redemption\n"
     ]
    }
   ],
   "source": [
    "# 1. Hvilken film ligger øverst på listen og hvem har regissert den?\n",
    "# a. Hvis oppgaven mener den filmen som ligger øverst i json-fila\n",
    "print(f\"Filmen som ligger øverst er {filmer[0]['navn']} som er regissert av {filmer[0]['regissører'][0]}\")\n",
    "\n",
    "# b. Hvis oppgaven mener den filmen med høyest karakter\n",
    "høyest = filmer[0]\n",
    "for film in filmer:\n",
    "    if film[\"karakter\"] > høyest[\"karakter\"]:\n",
    "        høyest = film\n",
    "print(f\"Filmen med høyest karakter er {høyest['navn']}\")"
   ]
  },
  {
   "cell_type": "code",
   "execution_count": 12,
   "metadata": {},
   "outputs": [
    {
     "name": "stdout",
     "output_type": "stream",
     "text": [
      "Gjennomsnittskarakteren til filmene er 8.32199999999999\n"
     ]
    }
   ],
   "source": [
    "# 2. Hva er gjennomsnittskarakteren til alle filmene på listen?\n",
    "total_karakter = 0\n",
    "for film in filmer:\n",
    "    total_karakter += film['karakter']\n",
    "snittkarakter = total_karakter / len(filmer)\n",
    "print(f\"Gjennomsnittskarakteren til filmene er {snittkarakter}\")"
   ]
  },
  {
   "cell_type": "code",
   "execution_count": 21,
   "metadata": {},
   "outputs": [
    {
     "name": "stdout",
     "output_type": "stream",
     "text": [
      "9.02\n"
     ]
    }
   ],
   "source": [
    "# 3. Hva er gjennomsnittskarakteren til de ti første filmene?\n",
    "filmer_sortert = sorted(filmer, key=lambda film:film['karakter'], reverse=True)\n",
    "ti_første = filmer_sortert[:10] # lager en ny liste som inneholder de ti første filmene\n",
    "total_karakter_ti_første = 0\n",
    "for film in ti_første:\n",
    "    total_karakter_ti_første += film['karakter']\n",
    "snittkarakter_ti_første = total_karakter_ti_første / len(ti_første)\n",
    "print(snittkarakter_ti_første)"
   ]
  },
  {
   "cell_type": "code",
   "execution_count": null,
   "metadata": {},
   "outputs": [],
   "source": [
    "teller = 10\n",
    "while teller > 0:\n",
    "    "
   ]
  }
 ],
 "metadata": {
  "kernelspec": {
   "display_name": "Python 3",
   "language": "python",
   "name": "python3"
  },
  "language_info": {
   "codemirror_mode": {
    "name": "ipython",
    "version": 3
   },
   "file_extension": ".py",
   "mimetype": "text/x-python",
   "name": "python",
   "nbconvert_exporter": "python",
   "pygments_lexer": "ipython3",
   "version": "3.12.0"
  }
 },
 "nbformat": 4,
 "nbformat_minor": 2
}
