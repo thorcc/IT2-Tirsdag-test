{
 "cells": [
  {
   "cell_type": "code",
   "execution_count": 3,
   "metadata": {},
   "outputs": [
    {
     "name": "stdout",
     "output_type": "stream",
     "text": [
      "Hallo, verden!\n"
     ]
    }
   ],
   "source": [
    "print(\"Hallo, verden!\")"
   ]
  },
  {
   "cell_type": "code",
   "execution_count": 2,
   "metadata": {},
   "outputs": [
    {
     "name": "stdout",
     "output_type": "stream",
     "text": [
      "<class 'list'>\n"
     ]
    },
    {
     "data": {
      "text/plain": [
       "{'navn': 'La Diabla',\n",
       " 'artist': 'Xavi',\n",
       " 'bilde_url': 'https://i.scdn.co/image/ab67616d00001e021501c770de50a22b25d67611',\n",
       " 'plassering': 1,\n",
       " 'forrige_plassering': 1,\n",
       " 'topplassering': 1,\n",
       " 'topp_dato': '2024-01-11',\n",
       " 'uker_paa_listen': 5,\n",
       " 'antall_streams': 34195950}"
      ]
     },
     "execution_count": 2,
     "metadata": {},
     "output_type": "execute_result"
    }
   ],
   "source": [
    "import json\n",
    "with open(\"spotify-weekly-top-songs-global-uke2-2023.json\") as fil:\n",
    "    data = json.load(fil)\n",
    "print(type(data)) # printer datatypen, for å sjekke hva vi har å jobbe med\n",
    "data[0] # henter ut det første elementet i lista (trenger ikke print i notebooks)\n"
   ]
  },
  {
   "cell_type": "code",
   "execution_count": 3,
   "metadata": {},
   "outputs": [
    {
     "data": {
      "text/plain": [
       "5"
      ]
     },
     "execution_count": 3,
     "metadata": {},
     "output_type": "execute_result"
    }
   ],
   "source": [
    "data[0][\"uker_paa_listen\"] # henter ut uker på listen fra den første sangen"
   ]
  },
  {
   "cell_type": "code",
   "execution_count": 4,
   "metadata": {},
   "outputs": [
    {
     "name": "stdout",
     "output_type": "stream",
     "text": [
      "Believer 358\n"
     ]
    }
   ],
   "source": [
    "høyest = data[0][\"uker_paa_listen\"]\n",
    "høyest_sang = data[0][\"navn\"]\n",
    "for sang in data:\n",
    "    if sang[\"uker_paa_listen\"] > høyest:\n",
    "        høyest = sang[\"uker_paa_listen\"]\n",
    "        høyest_sang = sang[\"navn\"]\n",
    "print(høyest_sang, høyest)"
   ]
  },
  {
   "cell_type": "code",
   "execution_count": 5,
   "metadata": {},
   "outputs": [
    {
     "name": "stdout",
     "output_type": "stream",
     "text": [
      "Imagine Dragons Believer 358\n"
     ]
    }
   ],
   "source": [
    "høyest_uker = -1\n",
    "høyest_artist = \"\"\n",
    "høyest_navn = \"\"\n",
    "for sang in data:\n",
    "    #print(sang[\"artist\"], sang[\"navn\"], sang[\"uker_paa_listen\"])\n",
    "    sang_uker = sang[\"uker_paa_listen\"]\n",
    "    sang_artist = sang[\"artist\"]\n",
    "    sang_navn = sang[\"navn\"]\n",
    "    if sang_uker > høyest_uker:\n",
    "        høyest_uker = sang_uker\n",
    "        høyest_artist = sang_artist\n",
    "        høyest_navn = sang_navn\n",
    "\n",
    "\n",
    "print(høyest_artist, høyest_navn, høyest_uker)"
   ]
  },
  {
   "cell_type": "code",
   "execution_count": 23,
   "metadata": {},
   "outputs": [
    {
     "name": "stdout",
     "output_type": "stream",
     "text": [
      "{'navn': 'Believer', 'artist': 'Imagine Dragons', 'bilde_url': 'https://i.scdn.co/image/ab67616d00001e025675e83f707f1d7271e5cf8a', 'plassering': 173, 'forrige_plassering': 173, 'topplassering': 16, 'topp_dato': '2017-06-29', 'uker_paa_listen': 358, 'antall_streams': 8322500}\n"
     ]
    }
   ],
   "source": [
    "høyest = data[0]\n",
    "for sang in data:\n",
    "    if sang[\"uker_paa_listen\"] > høyest[\"uker_paa_listen\"]:\n",
    "        høyest = sang\n",
    "print(høyest)"
   ]
  },
  {
   "cell_type": "code",
   "execution_count": 24,
   "metadata": {},
   "outputs": [
    {
     "name": "stdout",
     "output_type": "stream",
     "text": [
      "Gjennomsnittlig antall uker på lista: 55.41\n"
     ]
    }
   ],
   "source": [
    "total = 0\n",
    "antall = 0\n",
    "for sang in data:\n",
    "    total += sang[\"uker_paa_listen\"]\n",
    "    antall += 1\n",
    "print(\"Gjennomsnittlig antall uker på lista:\", total / antall)"
   ]
  },
  {
   "cell_type": "code",
   "execution_count": 26,
   "metadata": {},
   "outputs": [
    {
     "name": "stdout",
     "output_type": "stream",
     "text": [
      "Gjennomsnittlig antall streams: 11785697.48\n"
     ]
    }
   ],
   "source": [
    "# Oppgave: Hva er gjennomsnnittlig antall streams per sang på topplista\n",
    "total = 0\n",
    "antall = 0\n",
    "for sang in data:\n",
    "    total += sang[\"antall_streams\"]\n",
    "    antall += 1\n",
    "print(\"Gjennomsnittlig antall streams:\", total / antall)"
   ]
  },
  {
   "cell_type": "code",
   "execution_count": 34,
   "metadata": {},
   "outputs": [
    {
     "name": "stdout",
     "output_type": "stream",
     "text": [
      "Taylor Swift har totalt 120017297 antall streams, som gir et snitt på 12001729.7 per sang\n"
     ]
    }
   ],
   "source": [
    "total = 0\n",
    "antall = 0\n",
    "for sang in data:\n",
    "    if sang[\"artist\"] == \"Taylor Swift\":\n",
    "        total += sang[\"antall_streams\"]\n",
    "        antall += 1\n",
    "print(f\"Taylor Swift har totalt {total} antall streams, som gir et snitt på {total/antall} per sang\")"
   ]
  },
  {
   "cell_type": "code",
   "execution_count": null,
   "metadata": {},
   "outputs": [],
   "source": [
    "# Oppgave: Hvor mange streams har taylor swift i gjennomsnitt per sang"
   ]
  }
 ],
 "metadata": {
  "kernelspec": {
   "display_name": "Python 3",
   "language": "python",
   "name": "python3"
  },
  "language_info": {
   "codemirror_mode": {
    "name": "ipython",
    "version": 3
   },
   "file_extension": ".py",
   "mimetype": "text/x-python",
   "name": "python",
   "nbconvert_exporter": "python",
   "pygments_lexer": "ipython3",
   "version": "3.12.0"
  }
 },
 "nbformat": 4,
 "nbformat_minor": 2
}
