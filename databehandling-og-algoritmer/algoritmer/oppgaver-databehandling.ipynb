{
 "cells": [
  {
   "cell_type": "code",
   "execution_count": 1,
   "metadata": {},
   "outputs": [
    {
     "name": "stdout",
     "output_type": "stream",
     "text": [
      "<class 'list'>\n"
     ]
    },
    {
     "data": {
      "text/plain": [
       "{'navn': 'La Diabla',\n",
       " 'artist': 'Xavi',\n",
       " 'bilde_url': 'https://i.scdn.co/image/ab67616d00001e021501c770de50a22b25d67611',\n",
       " 'plassering': 1,\n",
       " 'forrige_plassering': 1,\n",
       " 'topplassering': 1,\n",
       " 'topp_dato': '2024-01-11',\n",
       " 'uker_paa_listen': 5,\n",
       " 'antall_streams': 34195950}"
      ]
     },
     "execution_count": 1,
     "metadata": {},
     "output_type": "execute_result"
    }
   ],
   "source": [
    "# Oppgave 1\n",
    "import json\n",
    "with open(\"spotify-weekly-top-songs-global-uke2-2023.json\") as fil:\n",
    "    data = json.load(fil)\n",
    "print(type(data)) # printer datatypen, for å sjekke hva vi har å jobbe med\n",
    "data[0] # henter ut det første elementet i lista (trenger ikke print i notebooks)\n"
   ]
  },
  {
   "cell_type": "code",
   "execution_count": 3,
   "metadata": {},
   "outputs": [
    {
     "name": "stdout",
     "output_type": "stream",
     "text": [
      "Xavi La Diabla endring: 0\n"
     ]
    }
   ],
   "source": [
    "# Oppgave 1-3\n",
    "størst_endring = -1\n",
    "størst_endring_sang = \"\"\n",
    "størst_endring_artist = \"\"\n",
    "for sang in data:\n",
    "    forrige = sang[\"forrige_plassering\"]\n",
    "    denne = sang[\"plassering\"]\n",
    "    endring = denne - forrige\n",
    "    if endring > størst_endring:\n",
    "        størst_endring = endring\n",
    "        størst_endring_sang = sang[\"navn\"]\n",
    "        størst_endring_artist = sang[\"artist\"]\n",
    "print(størst_endring_artist, størst_endring_sang, \"endring:\", størst_endring)\n"
   ]
  },
  {
   "cell_type": "code",
   "execution_count": null,
   "metadata": {},
   "outputs": [],
   "source": []
  }
 ],
 "metadata": {
  "kernelspec": {
   "display_name": "Python 3",
   "language": "python",
   "name": "python3"
  },
  "language_info": {
   "codemirror_mode": {
    "name": "ipython",
    "version": 3
   },
   "file_extension": ".py",
   "mimetype": "text/x-python",
   "name": "python",
   "nbconvert_exporter": "python",
   "pygments_lexer": "ipython3",
   "version": "3.12.0"
  }
 },
 "nbformat": 4,
 "nbformat_minor": 2
}
